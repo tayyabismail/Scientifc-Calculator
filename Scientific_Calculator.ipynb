{
  "nbformat": 4,
  "nbformat_minor": 0,
  "metadata": {
    "colab": {
      "provenance": [],
      "authorship_tag": "ABX9TyOowVs59ZZ04Os1HuJ8lZkd",
      "include_colab_link": true
    },
    "kernelspec": {
      "name": "python3",
      "display_name": "Python 3"
    },
    "language_info": {
      "name": "python"
    }
  },
  "cells": [
    {
      "cell_type": "markdown",
      "metadata": {
        "id": "view-in-github",
        "colab_type": "text"
      },
      "source": [
        "<a href=\"https://colab.research.google.com/github/tayyabismail/Scientifc-Calculator/blob/main/Scientific_Calculator.ipynb\" target=\"_parent\"><img src=\"https://colab.research.google.com/assets/colab-badge.svg\" alt=\"Open In Colab\"/></a>"
      ]
    },
    {
      "cell_type": "code",
      "execution_count": null,
      "metadata": {
        "colab": {
          "base_uri": "https://localhost:8080/"
        },
        "id": "cO3t5vdNik0L",
        "outputId": "dc7225e5-fdbd-4eef-9b08-b404e65b753f"
      },
      "outputs": [
        {
          "output_type": "stream",
          "name": "stdout",
          "text": [
            "Select an operation:\n",
            "1. Addition\n",
            "2. Subtraction\n",
            "3. Multiplication\n",
            "4. Division\n",
            "5. Power\n",
            "6. Square Root\n",
            "7. Logarithm\n",
            "8. Sine\n",
            "9. Cosine\n",
            "10. Tangent\n"
          ]
        }
      ],
      "source": [
        "import math\n",
        "\n",
        "def scientific_calculator():\n",
        "    print(\"Select an operation:\")\n",
        "    print(\"1. Addition\")\n",
        "    print(\"2. Subtraction\")\n",
        "    print(\"3. Multiplication\")\n",
        "    print(\"4. Division\")\n",
        "    print(\"5. Power\")\n",
        "    print(\"6. Square Root\")\n",
        "    print(\"7. Logarithm\")\n",
        "    print(\"8. Sine\")\n",
        "    print(\"9. Cosine\")\n",
        "    print(\"10. Tangent\")\n",
        "\n",
        "    # Get user choice\n",
        "    choice = input(\"Enter choice (1-10): \")\n",
        "\n",
        "    # Perform calculations based on choice\n",
        "    if choice in ['1', '2', '3', '4', '5']:\n",
        "        num1 = float(input(\"Enter first number: \"))\n",
        "        num2 = float(input(\"Enter second number: \"))\n",
        "\n",
        "        if choice == '1':\n",
        "            print(f\"Result: {num1} + {num2} = {num1 + num2}\")\n",
        "        elif choice == '2':\n",
        "            print(f\"Result: {num1} - {num2} = {num1 - num2}\")\n",
        "        elif choice == '3':\n",
        "            print(f\"Result: {num1} * {num2} = {num1 * num2}\")\n",
        "        elif choice == '4':\n",
        "            if num2 == 0:\n",
        "                print(\"Error: Division by zero is not allowed.\")\n",
        "            else:\n",
        "                print(f\"Result: {num1} / {num2} = {num1 / num2}\")\n",
        "        elif choice == '5':\n",
        "            print(f\"Result: {num1} ^ {num2} = {math.pow(num1, num2)}\")\n",
        "\n",
        "    elif choice == '6':\n",
        "        num = float(input(\"Enter a number: \"))\n",
        "        if num < 0:\n",
        "            print(\"Error: Cannot calculate the square root of a negative number.\")\n",
        "        else:\n",
        "            print(f\"Result: √{num} = {math.sqrt(num)}\")\n",
        "\n",
        "    elif choice == '7':\n",
        "        num = float(input(\"Enter a number: \"))\n",
        "        if num <= 0:\n",
        "            print(\"Error: Logarithm is not defined for non-positive numbers.\")\n",
        "        else:\n",
        "            print(f\"Result: log({num}) = {math.log(num)}\")\n",
        "\n",
        "    elif choice == '8':\n",
        "        angle = float(input(\"Enter angle in degrees: \"))\n",
        "        print(f\"Result: sin({angle}) = {math.sin(math.radians(angle))}\")\n",
        "\n",
        "    elif choice == '9':\n",
        "        angle = float(input(\"Enter angle in degrees: \"))\n",
        "        print(f\"Result: cos({angle}) = {math.cos(math.radians(angle))}\")\n",
        "\n",
        "    elif choice == '10':\n",
        "        angle = float(input(\"Enter angle in degrees: \"))\n",
        "        print(f\"Result: tan({angle}) = {math.tan(math.radians(angle))}\")\n",
        "\n",
        "    else:\n",
        "        print(\"Invalid choice, please select a number between 1 and 10.\")\n",
        "\n",
        "# Run the scientific calculator\n",
        "scientific_calculator()\n"
      ]
    }
  ]
}